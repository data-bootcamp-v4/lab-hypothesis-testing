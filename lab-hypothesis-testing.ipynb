{
 "cells": [
  {
   "cell_type": "markdown",
   "metadata": {},
   "source": [
    "# Lab | Hypothesis Testing"
   ]
  },
  {
   "cell_type": "markdown",
   "metadata": {},
   "source": [
    "**Objective**\n",
    "\n",
    "Welcome to the Hypothesis Testing Lab, where we embark on an enlightening journey through the realm of statistical decision-making! In this laboratory, we delve into various scenarios, applying the powerful tools of hypothesis testing to scrutinize and interpret data.\n",
    "\n",
    "From testing the mean of a single sample (One Sample T-Test), to investigating differences between independent groups (Two Sample T-Test), and exploring relationships within dependent samples (Paired Sample T-Test), our exploration knows no bounds. Furthermore, we'll venture into the realm of Analysis of Variance (ANOVA), unraveling the complexities of comparing means across multiple groups.\n",
    "\n",
    "So, grab your statistical tools, prepare your hypotheses, and let's embark on this fascinating journey of exploration and discovery in the world of hypothesis testing!"
   ]
  },
  {
   "cell_type": "markdown",
   "metadata": {},
   "source": [
    "**Challenge 1**"
   ]
  },
  {
   "cell_type": "markdown",
   "metadata": {},
   "source": [
    "In this challenge, we will be working with pokemon data. The data can be found here:\n",
    "\n",
    "- https://raw.githubusercontent.com/data-bootcamp-v4/data/main/pokemon.csv"
   ]
  },
  {
   "cell_type": "code",
   "execution_count": 1,
   "metadata": {},
   "outputs": [],
   "source": [
    "#libraries\n",
    "import pandas as pd\n",
    "import scipy.stats as st\n",
    "import numpy as np"
   ]
  },
  {
   "cell_type": "code",
   "execution_count": 2,
   "metadata": {},
   "outputs": [
    {
     "data": {
      "text/html": [
       "<div>\n",
       "<style scoped>\n",
       "    .dataframe tbody tr th:only-of-type {\n",
       "        vertical-align: middle;\n",
       "    }\n",
       "\n",
       "    .dataframe tbody tr th {\n",
       "        vertical-align: top;\n",
       "    }\n",
       "\n",
       "    .dataframe thead th {\n",
       "        text-align: right;\n",
       "    }\n",
       "</style>\n",
       "<table border=\"1\" class=\"dataframe\">\n",
       "  <thead>\n",
       "    <tr style=\"text-align: right;\">\n",
       "      <th></th>\n",
       "      <th>Name</th>\n",
       "      <th>Type 1</th>\n",
       "      <th>Type 2</th>\n",
       "      <th>HP</th>\n",
       "      <th>Attack</th>\n",
       "      <th>Defense</th>\n",
       "      <th>Sp. Atk</th>\n",
       "      <th>Sp. Def</th>\n",
       "      <th>Speed</th>\n",
       "      <th>Generation</th>\n",
       "      <th>Legendary</th>\n",
       "    </tr>\n",
       "  </thead>\n",
       "  <tbody>\n",
       "    <tr>\n",
       "      <th>0</th>\n",
       "      <td>Bulbasaur</td>\n",
       "      <td>Grass</td>\n",
       "      <td>Poison</td>\n",
       "      <td>45</td>\n",
       "      <td>49</td>\n",
       "      <td>49</td>\n",
       "      <td>65</td>\n",
       "      <td>65</td>\n",
       "      <td>45</td>\n",
       "      <td>1</td>\n",
       "      <td>False</td>\n",
       "    </tr>\n",
       "    <tr>\n",
       "      <th>1</th>\n",
       "      <td>Ivysaur</td>\n",
       "      <td>Grass</td>\n",
       "      <td>Poison</td>\n",
       "      <td>60</td>\n",
       "      <td>62</td>\n",
       "      <td>63</td>\n",
       "      <td>80</td>\n",
       "      <td>80</td>\n",
       "      <td>60</td>\n",
       "      <td>1</td>\n",
       "      <td>False</td>\n",
       "    </tr>\n",
       "    <tr>\n",
       "      <th>2</th>\n",
       "      <td>Venusaur</td>\n",
       "      <td>Grass</td>\n",
       "      <td>Poison</td>\n",
       "      <td>80</td>\n",
       "      <td>82</td>\n",
       "      <td>83</td>\n",
       "      <td>100</td>\n",
       "      <td>100</td>\n",
       "      <td>80</td>\n",
       "      <td>1</td>\n",
       "      <td>False</td>\n",
       "    </tr>\n",
       "    <tr>\n",
       "      <th>3</th>\n",
       "      <td>Mega Venusaur</td>\n",
       "      <td>Grass</td>\n",
       "      <td>Poison</td>\n",
       "      <td>80</td>\n",
       "      <td>100</td>\n",
       "      <td>123</td>\n",
       "      <td>122</td>\n",
       "      <td>120</td>\n",
       "      <td>80</td>\n",
       "      <td>1</td>\n",
       "      <td>False</td>\n",
       "    </tr>\n",
       "    <tr>\n",
       "      <th>4</th>\n",
       "      <td>Charmander</td>\n",
       "      <td>Fire</td>\n",
       "      <td>NaN</td>\n",
       "      <td>39</td>\n",
       "      <td>52</td>\n",
       "      <td>43</td>\n",
       "      <td>60</td>\n",
       "      <td>50</td>\n",
       "      <td>65</td>\n",
       "      <td>1</td>\n",
       "      <td>False</td>\n",
       "    </tr>\n",
       "    <tr>\n",
       "      <th>...</th>\n",
       "      <td>...</td>\n",
       "      <td>...</td>\n",
       "      <td>...</td>\n",
       "      <td>...</td>\n",
       "      <td>...</td>\n",
       "      <td>...</td>\n",
       "      <td>...</td>\n",
       "      <td>...</td>\n",
       "      <td>...</td>\n",
       "      <td>...</td>\n",
       "      <td>...</td>\n",
       "    </tr>\n",
       "    <tr>\n",
       "      <th>795</th>\n",
       "      <td>Diancie</td>\n",
       "      <td>Rock</td>\n",
       "      <td>Fairy</td>\n",
       "      <td>50</td>\n",
       "      <td>100</td>\n",
       "      <td>150</td>\n",
       "      <td>100</td>\n",
       "      <td>150</td>\n",
       "      <td>50</td>\n",
       "      <td>6</td>\n",
       "      <td>True</td>\n",
       "    </tr>\n",
       "    <tr>\n",
       "      <th>796</th>\n",
       "      <td>Mega Diancie</td>\n",
       "      <td>Rock</td>\n",
       "      <td>Fairy</td>\n",
       "      <td>50</td>\n",
       "      <td>160</td>\n",
       "      <td>110</td>\n",
       "      <td>160</td>\n",
       "      <td>110</td>\n",
       "      <td>110</td>\n",
       "      <td>6</td>\n",
       "      <td>True</td>\n",
       "    </tr>\n",
       "    <tr>\n",
       "      <th>797</th>\n",
       "      <td>Hoopa Confined</td>\n",
       "      <td>Psychic</td>\n",
       "      <td>Ghost</td>\n",
       "      <td>80</td>\n",
       "      <td>110</td>\n",
       "      <td>60</td>\n",
       "      <td>150</td>\n",
       "      <td>130</td>\n",
       "      <td>70</td>\n",
       "      <td>6</td>\n",
       "      <td>True</td>\n",
       "    </tr>\n",
       "    <tr>\n",
       "      <th>798</th>\n",
       "      <td>Hoopa Unbound</td>\n",
       "      <td>Psychic</td>\n",
       "      <td>Dark</td>\n",
       "      <td>80</td>\n",
       "      <td>160</td>\n",
       "      <td>60</td>\n",
       "      <td>170</td>\n",
       "      <td>130</td>\n",
       "      <td>80</td>\n",
       "      <td>6</td>\n",
       "      <td>True</td>\n",
       "    </tr>\n",
       "    <tr>\n",
       "      <th>799</th>\n",
       "      <td>Volcanion</td>\n",
       "      <td>Fire</td>\n",
       "      <td>Water</td>\n",
       "      <td>80</td>\n",
       "      <td>110</td>\n",
       "      <td>120</td>\n",
       "      <td>130</td>\n",
       "      <td>90</td>\n",
       "      <td>70</td>\n",
       "      <td>6</td>\n",
       "      <td>True</td>\n",
       "    </tr>\n",
       "  </tbody>\n",
       "</table>\n",
       "<p>800 rows × 11 columns</p>\n",
       "</div>"
      ],
      "text/plain": [
       "               Name   Type 1  Type 2  HP  Attack  Defense  Sp. Atk  Sp. Def  \\\n",
       "0         Bulbasaur    Grass  Poison  45      49       49       65       65   \n",
       "1           Ivysaur    Grass  Poison  60      62       63       80       80   \n",
       "2          Venusaur    Grass  Poison  80      82       83      100      100   \n",
       "3     Mega Venusaur    Grass  Poison  80     100      123      122      120   \n",
       "4        Charmander     Fire     NaN  39      52       43       60       50   \n",
       "..              ...      ...     ...  ..     ...      ...      ...      ...   \n",
       "795         Diancie     Rock   Fairy  50     100      150      100      150   \n",
       "796    Mega Diancie     Rock   Fairy  50     160      110      160      110   \n",
       "797  Hoopa Confined  Psychic   Ghost  80     110       60      150      130   \n",
       "798   Hoopa Unbound  Psychic    Dark  80     160       60      170      130   \n",
       "799       Volcanion     Fire   Water  80     110      120      130       90   \n",
       "\n",
       "     Speed  Generation  Legendary  \n",
       "0       45           1      False  \n",
       "1       60           1      False  \n",
       "2       80           1      False  \n",
       "3       80           1      False  \n",
       "4       65           1      False  \n",
       "..     ...         ...        ...  \n",
       "795     50           6       True  \n",
       "796    110           6       True  \n",
       "797     70           6       True  \n",
       "798     80           6       True  \n",
       "799     70           6       True  \n",
       "\n",
       "[800 rows x 11 columns]"
      ]
     },
     "execution_count": 2,
     "metadata": {},
     "output_type": "execute_result"
    }
   ],
   "source": [
    "df = pd.read_csv(\"https://raw.githubusercontent.com/data-bootcamp-v4/data/main/pokemon.csv\")\n",
    "df"
   ]
  },
  {
   "cell_type": "markdown",
   "metadata": {},
   "source": [
    "- We posit that Pokemons of type Dragon have, on average, more HP stats than Grass. Choose the propper test and, with 5% significance, comment your findings."
   ]
  },
  {
   "cell_type": "code",
   "execution_count": 6,
   "metadata": {},
   "outputs": [],
   "source": [
    "# Split data into dragon and grass type subsets, get HP\n",
    "dragons = df[df['Type 1'] == 'Dragon']['HP']\n",
    "grass = df[df[\"Type 1\"] == 'Grass']['HP']"
   ]
  },
  {
   "cell_type": "code",
   "execution_count": null,
   "metadata": {},
   "outputs": [],
   "source": [
    "# Set the hypothesis\n",
    "\n",
    "# H0: Average HP for dragon type pokemon is equal to average HP for grass type pokemon. \n",
    "# H1: Average HP for dragon type pokemon is not equal to average HP for grass type pokemon.\n",
    "\n",
    "# Significance leve = 0.05"
   ]
  },
  {
   "cell_type": "code",
   "execution_count": 11,
   "metadata": {},
   "outputs": [
    {
     "name": "stdout",
     "output_type": "stream",
     "text": [
      "Stat: 3.3349632905124063  p_value: 0.0015987219490841197\n"
     ]
    }
   ],
   "source": [
    "# Runs a two sample t-test comparing dragon type pokemon and grass type pokemon\n",
    "stat, p_value = st.ttest_ind(dragons,grass, equal_var=False)\n",
    "print(\"Stat:\", stat, \" p_value:\", p_value)\n",
    "\n",
    "# p_value is less than 0.05, so we reject the null hypothesis and conclude that average HP is not the same for both types of pokemon.\n",
    "# Test results (specifically the t-value) seem to indicate that dragon type pokemon have more HP than grass type pokemon.  "
   ]
  },
  {
   "cell_type": "markdown",
   "metadata": {},
   "source": [
    "- We posit that Legendary Pokemons have different stats (HP, Attack, Defense, Sp.Atk, Sp.Def, Speed) when comparing with Non-Legendary. Choose the proper test and, with 5% significance, comment your findings.\n"
   ]
  },
  {
   "cell_type": "code",
   "execution_count": 15,
   "metadata": {},
   "outputs": [],
   "source": [
    "# Create a list of columns to keep - combat stats\n",
    "combat_stats = ['HP', 'Attack', 'Defense', 'Sp. Atk', 'Sp. Def','Speed']\n",
    "\n",
    "# Create combat stat subsets of the dataframe separated by legendary status\n",
    "legendary = df[df['Legendary']==1][combat_stats]\n",
    "regular = df[df['Legendary']==0][combat_stats]"
   ]
  },
  {
   "cell_type": "code",
   "execution_count": null,
   "metadata": {},
   "outputs": [],
   "source": [
    "# Set the hypothesis\n",
    "\n",
    "# H0: Legendary and regular (non-legendary) pokemon have the same averages for their combat stats. \n",
    "# H1: Legendary and regular pokemon do not have the same averages for their combat stats. \n",
    "\n",
    "# Significance leve = 0.05\n",
    "# Create alpha level\n",
    "alpha = 0.05"
   ]
  },
  {
   "cell_type": "code",
   "execution_count": 22,
   "metadata": {},
   "outputs": [
    {
     "name": "stdout",
     "output_type": "stream",
     "text": [
      "Stat: 8.981370483625046  p_value: 1.0026911708035284e-13\n",
      "Reject null hypothesis: Legendary pokemon have significantly different hit points than non-legendary pokemon.\n",
      "Legendary pokemon have higher hit points than non-legendary pokemon.\n"
     ]
    }
   ],
   "source": [
    "# Runs a two sample t-test comparing hit points for legendary pokemon and non-legendary pokemon \n",
    "# We are assuming that variance between the legendary and regular pokemon is NOT equal, because regular pokemon come in multiple levels of evolution, with higher evolutions being significantly more powerful than lower evolutions. On the other hand, legendary pokemon come in their highest form, and so we expect one legendary pokemon to be more comparable to another in terms of power.\n",
    "# For this reason, we use equal_var = False.  \n",
    "stat, p_value = st.ttest_ind(legendary['HP'],regular['HP'], equal_var=False)   \n",
    "print(\"Stat:\", stat, \" p_value:\", p_value)\n",
    "if p_value < 0.05:\n",
    "    print(\"Reject null hypothesis: Legendary pokemon have significantly different hit points than non-legendary pokemon.\")\n",
    "else:\n",
    "    print(\"Fail to reject null hypothesis: Legendary pokemon do not have significantly different hit points than non-legendary pokemon.\")\n",
    "\n",
    "if stat > 0:\n",
    "    print(\"Legendary pokemon have higher hit points than non-legendary pokemon.\")\n",
    "else:\n",
    "    print(\"Legendary pokemon have lower hit points than non-legendary pokemon.\")\n"
   ]
  },
  {
   "cell_type": "code",
   "execution_count": 21,
   "metadata": {},
   "outputs": [
    {
     "name": "stdout",
     "output_type": "stream",
     "text": [
      "Stat: 10.438133539322203  p_value: 2.520372449236646e-16\n",
      "Reject null hypothesis: Legendary pokemon have significantly different attack power than non-legendary pokemon.\n",
      "Legendary pokemon have higher attack power than non-legendary pokemon.\n"
     ]
    }
   ],
   "source": [
    "# Runs a two sample t-test comparing attack for legendary pokemon and non-legendary pokemon \n",
    "stat, p_value = st.ttest_ind(legendary['Attack'],regular['Attack'], equal_var=False)\n",
    "print(\"Stat:\", stat, \" p_value:\", p_value)\n",
    "if p_value < 0.05:\n",
    "    print(\"Reject null hypothesis: Legendary pokemon have significantly different attack power than non-legendary pokemon.\")\n",
    "else:\n",
    "    print(\"Fail to reject null hypothesis: Legendary pokemon do not have significantly different attack power than non-legendary pokemon.\")\n",
    "\n",
    "if stat > 0:\n",
    "    print(\"Legendary pokemon have higher attack power than non-legendary pokemon.\")\n",
    "else:\n",
    "    print(\"Legendary pokemon have lower attack power than non-legendary pokemon.\")"
   ]
  },
  {
   "cell_type": "code",
   "execution_count": 23,
   "metadata": {},
   "outputs": [
    {
     "name": "stdout",
     "output_type": "stream",
     "text": [
      "Stat: 7.637078164784618  p_value: 4.8269984949193316e-11\n",
      "Reject null hypothesis: Legendary pokemon have significantly different defense power than non-legendary pokemon.\n",
      "Legendary pokemon have higher defense power than non-legendary pokemon.\n"
     ]
    }
   ],
   "source": [
    "# Runs a two sample t-test comparing defense for legendary pokemon and non-legendary pokemon \n",
    "stat, p_value = st.ttest_ind(legendary['Defense'],regular['Defense'], equal_var=False)\n",
    "print(\"Stat:\", stat, \" p_value:\", p_value)\n",
    "if p_value < 0.05:\n",
    "    print(\"Reject null hypothesis: Legendary pokemon have significantly different defense power than non-legendary pokemon.\")\n",
    "else:\n",
    "    print(\"Fail to reject null hypothesis: Legendary pokemon do not have significantly different defense power than non-legendary pokemon.\")\n",
    "\n",
    "if stat > 0:\n",
    "    print(\"Legendary pokemon have higher defense power than non-legendary pokemon.\")\n",
    "else:\n",
    "    print(\"Legendary pokemon have lower defense power than non-legendary pokemon.\")"
   ]
  },
  {
   "cell_type": "code",
   "execution_count": 24,
   "metadata": {},
   "outputs": [
    {
     "name": "stdout",
     "output_type": "stream",
     "text": [
      "Stat: 13.417449984138461  p_value: 1.5514614112239812e-21\n",
      "Reject null hypothesis: Legendary pokemon have significantly different special attack power than non-legendary pokemon.\n",
      "Legendary pokemon have higher special attack power than non-legendary pokemon.\n"
     ]
    }
   ],
   "source": [
    "# Runs a two sample t-test comparing special attack for legendary pokemon and non-legendary pokemon \n",
    "stat, p_value = st.ttest_ind(legendary['Sp. Atk'],regular['Sp. Atk'], equal_var=False)\n",
    "print(\"Stat:\", stat, \" p_value:\", p_value)\n",
    "if p_value < 0.05:\n",
    "    print(\"Reject null hypothesis: Legendary pokemon have significantly different special attack power than non-legendary pokemon.\")\n",
    "else:\n",
    "    print(\"Fail to reject null hypothesis: Legendary pokemon do not have significantly different special attack power than non-legendary pokemon.\")\n",
    "\n",
    "if stat > 0:\n",
    "    print(\"Legendary pokemon have higher special attack power than non-legendary pokemon.\")\n",
    "else:\n",
    "    print(\"Legendary pokemon have lower special attack power than non-legendary pokemon.\")"
   ]
  },
  {
   "cell_type": "code",
   "execution_count": 25,
   "metadata": {},
   "outputs": [
    {
     "name": "stdout",
     "output_type": "stream",
     "text": [
      "Stat: 10.015696613114878  p_value: 2.2949327864052826e-15\n",
      "Reject null hypothesis: Legendary pokemon have significantly different special defense power than non-legendary pokemon.\n",
      "Legendary pokemon have higher special defense power than non-legendary pokemon.\n"
     ]
    }
   ],
   "source": [
    "# Runs a two sample t-test comparing special attack for legendary pokemon and non-legendary pokemon \n",
    "stat, p_value = st.ttest_ind(legendary['Sp. Def'],regular['Sp. Def'], equal_var=False)\n",
    "print(\"Stat:\", stat, \" p_value:\", p_value)\n",
    "if p_value < 0.05:\n",
    "    print(\"Reject null hypothesis: Legendary pokemon have significantly different special defense power than non-legendary pokemon.\")\n",
    "else:\n",
    "    print(\"Fail to reject null hypothesis: Legendary pokemon do not have significantly different special defense power than non-legendary pokemon.\")\n",
    "\n",
    "if stat > 0:\n",
    "    print(\"Legendary pokemon have higher special defense power than non-legendary pokemon.\")\n",
    "else:\n",
    "    print(\"Legendary pokemon have lower special defense power than non-legendary pokemon.\")"
   ]
  },
  {
   "cell_type": "code",
   "execution_count": 26,
   "metadata": {},
   "outputs": [
    {
     "name": "stdout",
     "output_type": "stream",
     "text": [
      "Stat: 11.47504444631443  p_value: 1.049016311882451e-18\n",
      "Reject null hypothesis: Legendary pokemon have significantly different speed than non-legendary pokemon.\n",
      "Legendary pokemon have higher speed than non-legendary pokemon.\n"
     ]
    }
   ],
   "source": [
    "# Runs a two sample t-test comparing speed for legendary pokemon and non-legendary pokemon \n",
    "stat, p_value = st.ttest_ind(legendary['Speed'],regular['Speed'], equal_var=False)\n",
    "print(\"Stat:\", stat, \" p_value:\", p_value)\n",
    "if p_value < 0.05:\n",
    "    print(\"Reject null hypothesis: Legendary pokemon have significantly different speed than non-legendary pokemon.\")\n",
    "else:\n",
    "    print(\"Fail to reject null hypothesis: Legendary pokemon do not have significantly different speed than non-legendary pokemon.\")\n",
    "\n",
    "if stat > 0:\n",
    "    print(\"Legendary pokemon have higher speed than non-legendary pokemon.\")\n",
    "else:\n",
    "    print(\"Legendary pokemon have lower speed than non-legendary pokemon.\")"
   ]
  },
  {
   "cell_type": "markdown",
   "metadata": {},
   "source": [
    "From these test results, we can conclude that, on average, legendary pokemon are superior to non-legendary pokemon in every combat statistic. In every case we rejected the null hypothesis that there was no significant difference between the two. In every case we found that there was indeed a significant difference, and in every such case we found that legendary pokemon had higher combat stats. "
   ]
  },
  {
   "cell_type": "markdown",
   "metadata": {},
   "source": [
    "**Challenge 2**"
   ]
  },
  {
   "cell_type": "markdown",
   "metadata": {},
   "source": [
    "In this challenge, we will be working with california-housing data. The data can be found here:\n",
    "- https://raw.githubusercontent.com/data-bootcamp-v4/data/main/california_housing.csv"
   ]
  },
  {
   "cell_type": "code",
   "execution_count": 28,
   "metadata": {},
   "outputs": [
    {
     "data": {
      "text/html": [
       "<div>\n",
       "<style scoped>\n",
       "    .dataframe tbody tr th:only-of-type {\n",
       "        vertical-align: middle;\n",
       "    }\n",
       "\n",
       "    .dataframe tbody tr th {\n",
       "        vertical-align: top;\n",
       "    }\n",
       "\n",
       "    .dataframe thead th {\n",
       "        text-align: right;\n",
       "    }\n",
       "</style>\n",
       "<table border=\"1\" class=\"dataframe\">\n",
       "  <thead>\n",
       "    <tr style=\"text-align: right;\">\n",
       "      <th></th>\n",
       "      <th>longitude</th>\n",
       "      <th>latitude</th>\n",
       "      <th>housing_median_age</th>\n",
       "      <th>total_rooms</th>\n",
       "      <th>total_bedrooms</th>\n",
       "      <th>population</th>\n",
       "      <th>households</th>\n",
       "      <th>median_income</th>\n",
       "      <th>median_house_value</th>\n",
       "    </tr>\n",
       "  </thead>\n",
       "  <tbody>\n",
       "    <tr>\n",
       "      <th>0</th>\n",
       "      <td>-114.31</td>\n",
       "      <td>34.19</td>\n",
       "      <td>15.0</td>\n",
       "      <td>5612.0</td>\n",
       "      <td>1283.0</td>\n",
       "      <td>1015.0</td>\n",
       "      <td>472.0</td>\n",
       "      <td>1.4936</td>\n",
       "      <td>66900.0</td>\n",
       "    </tr>\n",
       "    <tr>\n",
       "      <th>1</th>\n",
       "      <td>-114.47</td>\n",
       "      <td>34.40</td>\n",
       "      <td>19.0</td>\n",
       "      <td>7650.0</td>\n",
       "      <td>1901.0</td>\n",
       "      <td>1129.0</td>\n",
       "      <td>463.0</td>\n",
       "      <td>1.8200</td>\n",
       "      <td>80100.0</td>\n",
       "    </tr>\n",
       "    <tr>\n",
       "      <th>2</th>\n",
       "      <td>-114.56</td>\n",
       "      <td>33.69</td>\n",
       "      <td>17.0</td>\n",
       "      <td>720.0</td>\n",
       "      <td>174.0</td>\n",
       "      <td>333.0</td>\n",
       "      <td>117.0</td>\n",
       "      <td>1.6509</td>\n",
       "      <td>85700.0</td>\n",
       "    </tr>\n",
       "    <tr>\n",
       "      <th>3</th>\n",
       "      <td>-114.57</td>\n",
       "      <td>33.64</td>\n",
       "      <td>14.0</td>\n",
       "      <td>1501.0</td>\n",
       "      <td>337.0</td>\n",
       "      <td>515.0</td>\n",
       "      <td>226.0</td>\n",
       "      <td>3.1917</td>\n",
       "      <td>73400.0</td>\n",
       "    </tr>\n",
       "    <tr>\n",
       "      <th>4</th>\n",
       "      <td>-114.57</td>\n",
       "      <td>33.57</td>\n",
       "      <td>20.0</td>\n",
       "      <td>1454.0</td>\n",
       "      <td>326.0</td>\n",
       "      <td>624.0</td>\n",
       "      <td>262.0</td>\n",
       "      <td>1.9250</td>\n",
       "      <td>65500.0</td>\n",
       "    </tr>\n",
       "    <tr>\n",
       "      <th>...</th>\n",
       "      <td>...</td>\n",
       "      <td>...</td>\n",
       "      <td>...</td>\n",
       "      <td>...</td>\n",
       "      <td>...</td>\n",
       "      <td>...</td>\n",
       "      <td>...</td>\n",
       "      <td>...</td>\n",
       "      <td>...</td>\n",
       "    </tr>\n",
       "    <tr>\n",
       "      <th>16995</th>\n",
       "      <td>-124.26</td>\n",
       "      <td>40.58</td>\n",
       "      <td>52.0</td>\n",
       "      <td>2217.0</td>\n",
       "      <td>394.0</td>\n",
       "      <td>907.0</td>\n",
       "      <td>369.0</td>\n",
       "      <td>2.3571</td>\n",
       "      <td>111400.0</td>\n",
       "    </tr>\n",
       "    <tr>\n",
       "      <th>16996</th>\n",
       "      <td>-124.27</td>\n",
       "      <td>40.69</td>\n",
       "      <td>36.0</td>\n",
       "      <td>2349.0</td>\n",
       "      <td>528.0</td>\n",
       "      <td>1194.0</td>\n",
       "      <td>465.0</td>\n",
       "      <td>2.5179</td>\n",
       "      <td>79000.0</td>\n",
       "    </tr>\n",
       "    <tr>\n",
       "      <th>16997</th>\n",
       "      <td>-124.30</td>\n",
       "      <td>41.84</td>\n",
       "      <td>17.0</td>\n",
       "      <td>2677.0</td>\n",
       "      <td>531.0</td>\n",
       "      <td>1244.0</td>\n",
       "      <td>456.0</td>\n",
       "      <td>3.0313</td>\n",
       "      <td>103600.0</td>\n",
       "    </tr>\n",
       "    <tr>\n",
       "      <th>16998</th>\n",
       "      <td>-124.30</td>\n",
       "      <td>41.80</td>\n",
       "      <td>19.0</td>\n",
       "      <td>2672.0</td>\n",
       "      <td>552.0</td>\n",
       "      <td>1298.0</td>\n",
       "      <td>478.0</td>\n",
       "      <td>1.9797</td>\n",
       "      <td>85800.0</td>\n",
       "    </tr>\n",
       "    <tr>\n",
       "      <th>16999</th>\n",
       "      <td>-124.35</td>\n",
       "      <td>40.54</td>\n",
       "      <td>52.0</td>\n",
       "      <td>1820.0</td>\n",
       "      <td>300.0</td>\n",
       "      <td>806.0</td>\n",
       "      <td>270.0</td>\n",
       "      <td>3.0147</td>\n",
       "      <td>94600.0</td>\n",
       "    </tr>\n",
       "  </tbody>\n",
       "</table>\n",
       "<p>17000 rows × 9 columns</p>\n",
       "</div>"
      ],
      "text/plain": [
       "       longitude  latitude  housing_median_age  total_rooms  total_bedrooms  \\\n",
       "0        -114.31     34.19                15.0       5612.0          1283.0   \n",
       "1        -114.47     34.40                19.0       7650.0          1901.0   \n",
       "2        -114.56     33.69                17.0        720.0           174.0   \n",
       "3        -114.57     33.64                14.0       1501.0           337.0   \n",
       "4        -114.57     33.57                20.0       1454.0           326.0   \n",
       "...          ...       ...                 ...          ...             ...   \n",
       "16995    -124.26     40.58                52.0       2217.0           394.0   \n",
       "16996    -124.27     40.69                36.0       2349.0           528.0   \n",
       "16997    -124.30     41.84                17.0       2677.0           531.0   \n",
       "16998    -124.30     41.80                19.0       2672.0           552.0   \n",
       "16999    -124.35     40.54                52.0       1820.0           300.0   \n",
       "\n",
       "       population  households  median_income  median_house_value  \n",
       "0          1015.0       472.0         1.4936             66900.0  \n",
       "1          1129.0       463.0         1.8200             80100.0  \n",
       "2           333.0       117.0         1.6509             85700.0  \n",
       "3           515.0       226.0         3.1917             73400.0  \n",
       "4           624.0       262.0         1.9250             65500.0  \n",
       "...           ...         ...            ...                 ...  \n",
       "16995       907.0       369.0         2.3571            111400.0  \n",
       "16996      1194.0       465.0         2.5179             79000.0  \n",
       "16997      1244.0       456.0         3.0313            103600.0  \n",
       "16998      1298.0       478.0         1.9797             85800.0  \n",
       "16999       806.0       270.0         3.0147             94600.0  \n",
       "\n",
       "[17000 rows x 9 columns]"
      ]
     },
     "execution_count": 28,
     "metadata": {},
     "output_type": "execute_result"
    }
   ],
   "source": [
    "df = pd.read_csv(\"https://raw.githubusercontent.com/data-bootcamp-v4/data/main/california_housing.csv\")\n",
    "df"
   ]
  },
  {
   "cell_type": "markdown",
   "metadata": {},
   "source": [
    "**We posit that houses close to either a school or a hospital are more expensive.**\n",
    "\n",
    "- School coordinates (-118, 37)\n",
    "- Hospital coordinates (-122, 34)\n",
    "\n",
    "We consider a house (neighborhood) to be close to a school or hospital if the distance is lower than 0.50.\n",
    "\n",
    "Hint:\n",
    "- Write a function to calculate euclidean distance from each house (neighborhood) to the school and to the hospital.\n",
    "- Divide your dataset into houses close and far from either a hospital or school.\n",
    "- Choose the proper test and, with 5% significance, comment your findings.\n",
    " "
   ]
  },
  {
   "cell_type": "code",
   "execution_count": 73,
   "metadata": {},
   "outputs": [],
   "source": [
    "# Define function to compute distance from school\n",
    "def school_dist(lat1, lon1):\n",
    "    \"This function takes provided latitudinal and longitudinal coordinates and computes their euclidean distance from a school whose position is (-118,37).\"\n",
    "    # Converts lat and lon to 'Cartesian coordinates' - ChatGPT recommended I do this. \n",
    "    x1 = lon1 * np.cos(lat1)\n",
    "    y1 = lat1\n",
    "    school_lon = -118 * np.cos(37)  # uses longitude and latitude provided for school location data\n",
    "    school_lat = 37                 # uses latitude provided for school location data\n",
    "    # Computes euclidean distance from a given latitude and longitude to the school. \n",
    "    distance = np.sqrt((x1 - school_lon)**2 + (y1 - school_lat)**2)\n",
    "    return distance"
   ]
  },
  {
   "cell_type": "code",
   "execution_count": 74,
   "metadata": {},
   "outputs": [],
   "source": [
    "# Creates a new column in df that contains each house's euclidean distance from the school. \n",
    "df['school_dist'] = school_dist(df['latitude'],df['longitude'])"
   ]
  },
  {
   "cell_type": "code",
   "execution_count": 66,
   "metadata": {},
   "outputs": [],
   "source": [
    "# Define function to compute distance from hospital\n",
    "def hosp_dist(lat1, lon1):\n",
    "    \"This function takes provided latitudinal and longitudinal coordinates and computes their euclidean distance from a hospital whose position is (-122,34).\"\n",
    "    # Converts lat and lon to 'Cartesian coordinates' - ChatGPT recommended I do this. \n",
    "    x1 = lon1 * np.cos(lat1)\n",
    "    y1 = lat1\n",
    "    hosp_lon = -122 * np.cos(34)  # uses longitude and latitude provided for school location data\n",
    "    hosp_lat = 34                 # uses latitude provided for school location data\n",
    "    # Computes euclidean distance from a given latitude and longitude to the school. \n",
    "    distance = np.sqrt((x1 -hosp_lon)**2 + (y1 - hosp_lat)**2)\n",
    "    return distance"
   ]
  },
  {
   "cell_type": "code",
   "execution_count": 67,
   "metadata": {},
   "outputs": [],
   "source": [
    "# Creates a new column in df that contains each house's euclidean distance from the hospital. \n",
    "df['hosp_dist'] = hosp_dist(df['latitude'],df['longitude'])"
   ]
  },
  {
   "cell_type": "code",
   "execution_count": 88,
   "metadata": {},
   "outputs": [],
   "source": [
    "# Creates subsets of data based on nearness to the school or hospital. \n",
    "close_house = df[(df['hosp_dist']<0.5) | (df['school_dist']<0.5)]['median_house_value']\n",
    "far_house = df[(df['hosp_dist']>0.5) & (df['school_dist']>0.5)]['median_house_value']\n"
   ]
  },
  {
   "cell_type": "code",
   "execution_count": null,
   "metadata": {},
   "outputs": [],
   "source": [
    "# Runs a two sample t-test comparing speed for legendary pokemon and non-legendary pokemon \n",
    "stat, p_value = st.ttest_ind(legendary['Speed'],regular['Speed'], equal_var=False)\n",
    "print(\"Stat:\", stat, \" p_value:\", p_value)\n",
    "if p_value < 0.05:\n",
    "    print(\"Reject null hypothesis: Legendary pokemon have significantly different speed than non-legendary pokemon.\")\n",
    "else:\n",
    "    print(\"Fail to reject null hypothesis: Legendary pokemon do not have significantly different speed than non-legendary pokemon.\")\n",
    "\n",
    "if stat > 0:\n",
    "    print(\"Legendary pokemon have higher speed than non-legendary pokemon.\")\n",
    "else:\n",
    "    print(\"Legendary pokemon have lower speed than non-legendary pokemon.\")"
   ]
  },
  {
   "cell_type": "code",
   "execution_count": 91,
   "metadata": {},
   "outputs": [
    {
     "name": "stdout",
     "output_type": "stream",
     "text": [
      "Stat: 2.190010046812842  p_value: 0.02853704837377385\n",
      "Reject null hypothesis. There is a statistically significant difference in house prices between houses close to either the hospital or the school and houses that are close to neither.\n",
      "Houses close to either the school or the hospital are more expensive than houses that are not.\n"
     ]
    }
   ],
   "source": [
    "# Runs a two sample t-test comparing prices of houses close to either the school or hospital with houses that are not close to either. \n",
    "# We assume that the variance of house prices in both categories is nearly equal because we have no indication that houses close to either or far from both bear any different qualities from each other. \n",
    "stat, p_value = st.ttest_ind(close_house,far_house)\n",
    "print(\"Stat:\", stat, \" p_value:\", p_value)\n",
    "if p_value < 0.05:\n",
    "    print(\"Reject null hypothesis. There is a statistically significant difference in house prices between houses close to either the hospital or the school and houses that are close to neither.\")\n",
    "else:\n",
    "    print(\"Fail to reject the null. We find no statistically significant difference between houses close to either the school or the hospital and houses that are close to neither.\")\n",
    "\n",
    "if stat > 0:\n",
    "    print(\"Houses close to either the school or the hospital are more expensive than houses that are not.\")\n",
    "else:\n",
    "    print(\"Houses close to either the school or the hospital are less expensive than houses that are not.\") "
   ]
  }
 ],
 "metadata": {
  "kernelspec": {
   "display_name": "Python 3",
   "language": "python",
   "name": "python3"
  },
  "language_info": {
   "codemirror_mode": {
    "name": "ipython",
    "version": 3
   },
   "file_extension": ".py",
   "mimetype": "text/x-python",
   "name": "python",
   "nbconvert_exporter": "python",
   "pygments_lexer": "ipython3",
   "version": "3.11.7"
  }
 },
 "nbformat": 4,
 "nbformat_minor": 2
}
